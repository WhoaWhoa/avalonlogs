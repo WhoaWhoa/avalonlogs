{
 "cells": [
  {
   "cell_type": "code",
   "execution_count": null,
   "metadata": {},
   "outputs": [],
   "source": [
    "%matplotlib"
   ]
  },
  {
   "cell_type": "code",
   "execution_count": null,
   "metadata": {},
   "outputs": [],
   "source": [
    "%matplotlib inline"
   ]
  },
  {
   "cell_type": "code",
   "execution_count": null,
   "metadata": {},
   "outputs": [],
   "source": [
    "import matplotlib.pyplot as plt\n",
    "import numpy as np\n",
    "import pandas as pd\n",
    "import json"
   ]
  },
  {
   "cell_type": "code",
   "execution_count": null,
   "metadata": {},
   "outputs": [],
   "source": [
    "plt.plot(np.random.randn(50).cumsum())"
   ]
  },
  {
   "cell_type": "code",
   "execution_count": null,
   "metadata": {},
   "outputs": [],
   "source": [
    "import os\n",
    "myList = []\n",
    "with os.scandir('avalonlogs/logs') as entries:\n",
    "    for entry in entries:\n",
    "        myList.append(pd.json_normalize(json.load(open(entry))))\n",
    "\n",
    "df = pd.concat(myList)\n"
   ]
  },
  {
   "cell_type": "code",
   "execution_count": null,
   "metadata": {},
   "outputs": [],
   "source": [
    "df"
   ]
  },
  {
   "cell_type": "code",
   "execution_count": null,
   "metadata": {},
   "outputs": [],
   "source": [
    "df['hasMerlin'] =   df.apply(lambda row: any([True for role in row['outcome.roles'] if role['role'] == \"MERLIN\"]), axis=1)\n",
    "df['hasPercival'] = df.apply(lambda row: any([True for role in row['outcome.roles'] if role['role'] == \"PERCIVAL\"]), axis=1)\n",
    "df['hasOberon'] = df.apply(lambda row: any([True for role in row['outcome.roles'] if role['role'] == \"OBERON\"]), axis=1)\n",
    "df['hasMordred'] = df.apply(lambda row: any([True for role in row['outcome.roles'] if role['role'] == \"MORDRED\"]), axis=1)\n",
    "df['hasMorgana'] = df.apply(lambda row: any([True for role in row['outcome.roles'] if role['role'] == \"MORGANA\"]), axis=1)\n",
    "df['numPlayers'] = df.apply(lambda row: len(row['outcome.roles']), axis=1)\n",
    "\n",
    "\n",
    "df['evilWin'] = df.apply(lambda row: row['outcome.state'] == \"EVIL_WIN\", axis=1)\n",
    "df['evilWinByAssassination'] = df.apply(lambda row: row['evilWin'] and row['outcome.message'] == \"Merlin assassinated\", axis=1)\n",
    "\n",
    "#df[df[\"outcome.message\"] == \"Merlin assassinated\"]\n",
    "#df.groupby(['hasMerlin', 'hasPercival', 'hasOberon', 'hasMordred', 'evilWin']).agg(['count'])\n",
    "summary = df.groupby(['hasMerlin','hasMorgana', 'hasPercival', 'evilWin']).agg(['count'])['missions']\n",
    "summary['pct'] = summary.groupby(level=[0,1,2]).apply(lambda x: 100 * x / float(x.sum()))\n",
    "summary"
   ]
  },
  {
   "cell_type": "code",
   "execution_count": null,
   "metadata": {},
   "outputs": [],
   "source": [
    "\n"
   ]
  },
  {
   "cell_type": "code",
   "execution_count": null,
   "metadata": {},
   "outputs": [],
   "source": []
  },
  {
   "cell_type": "code",
   "execution_count": null,
   "metadata": {},
   "outputs": [],
   "source": [
    "def roleForName(roles, name):\n",
    "    for role in roles:\n",
    "        if (role['name'] == name):\n",
    "            return role['role']\n",
    "    return None"
   ]
  },
  {
   "cell_type": "code",
   "execution_count": null,
   "metadata": {},
   "outputs": [],
   "source": [
    "df['roleAssassinated'] = df.apply (lambda row: roleForName(row['outcome.roles'], row['outcome.assassinated']), axis=1)\n",
    "df"
   ]
  },
  {
   "cell_type": "code",
   "execution_count": null,
   "metadata": {},
   "outputs": [],
   "source": [
    "#assassinStats = (df.groupby(['numPlayers','roleAssassinated'], dropna=False).agg(['count']))['missions']\n",
    "assassinStats = (df.groupby(['numPlayers', 'hasPercival', 'roleAssassinated']).agg(['count']))['missions']\n",
    "assassinStats['pct'] = assassinStats.groupby(level=[0, 1]).apply(lambda x: 100 * x / float(x.sum()))\n",
    "assassinStats"
   ]
  },
  {
   "cell_type": "code",
   "execution_count": null,
   "metadata": {},
   "outputs": [],
   "source": [
    "df[df[\"outcome.message\"] == \"Merlin assassinated\"]"
   ]
  },
  {
   "cell_type": "code",
   "execution_count": null,
   "metadata": {},
   "outputs": [],
   "source": [
    "assassinStats = (df.groupby(['hasMerlin', 'hasMorgana', 'hasPercival', 'evilWin'], dropna=False).agg(['count']))['missions']\n",
    "assassinStats['pct'] = assassinStats.groupby(level=[0,1,2]).apply(lambda x: 100 * x / float(x.sum()))\n",
    "assassinStats\n"
   ]
  },
  {
   "cell_type": "code",
   "execution_count": null,
   "metadata": {},
   "outputs": [],
   "source": [
    "assassinStats = (df.groupby(['hasMerlin', 'assassinationAttempted'], dropna=False).agg(['count']))['missions']\n",
    "assassinStats['pct'] = assassinStats.groupby(level=[0]).apply(lambda x: 100 * x / float(x.sum()))\n",
    "assassinStats\n"
   ]
  },
  {
   "cell_type": "code",
   "execution_count": null,
   "metadata": {},
   "outputs": [],
   "source": []
  }
 ],
 "metadata": {
  "kernelspec": {
   "display_name": "Python 3",
   "language": "python",
   "name": "python3"
  },
  "language_info": {
   "codemirror_mode": {
    "name": "ipython",
    "version": 3
   },
   "file_extension": ".py",
   "mimetype": "text/x-python",
   "name": "python",
   "nbconvert_exporter": "python",
   "pygments_lexer": "ipython3",
   "version": "3.8.8"
  }
 },
 "nbformat": 4,
 "nbformat_minor": 4
}
